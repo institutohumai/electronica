{
 "cells": [
  {
   "cell_type": "markdown",
   "id": "540ca926",
   "metadata": {},
   "source": [
    "Actualización Edición 2023: \n",
    "\n",
    "1. Respecto a los esquemas de conexión:\n",
    "\n",
    "Recordemos que la **RPico W** mantiene la compatibilidad de pines con la **RPico**, esto significa que la distribución de los 40 pines externos (que denominamos *pinout*) no cambia. Es por ello que, en los distintos esquemas de conexión que veamos a lo largo del curso, resulta indistinto si empleamos la **RPico** o la **RPico W**.\n",
    "\n",
    "2. Se incorpora información respecto a **SPI**. La misma se encuentra en la sección *4.7 Protocolo de comunicación SPI* y sus incisos 4.7.1 y 4.7.2. "
   ]
  }
 ],
 "metadata": {},
 "nbformat": 4,
 "nbformat_minor": 5
}
