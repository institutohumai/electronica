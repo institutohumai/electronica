{
 "cells": [
  {
   "cell_type": "markdown",
   "id": "e411393c",
   "metadata": {},
   "source": [
    "Actualización Edición 2023: \n",
    "\n",
    "1. Respecto a los esquemas de conexión:\n",
    "\n",
    "Recordemos que la **RPico W** mantiene la compatibilidad de pines con la **RPico**, esto significa que la distribución de los 40 pines externos (que denominamos *pinout*) no cambia. Es por ello que, en los distintos esquemas de conexión que veamos a lo largo del curso, resulta indistinto si empleamos la **RPico** o la **RPico W**.\n",
    "\n",
    "2. Respecto a los canales ADC del RP2040:\n",
    "\n",
    "Se incorpora un información complementaria referido la distribución de los canales **ADC** del *RP2040* en la **Figura 07**."
   ]
  }
 ],
 "metadata": {},
 "nbformat": 4,
 "nbformat_minor": 5
}
